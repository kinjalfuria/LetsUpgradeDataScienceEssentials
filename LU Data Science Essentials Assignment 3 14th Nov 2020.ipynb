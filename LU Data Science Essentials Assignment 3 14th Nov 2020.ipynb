{
 "cells": [
  {
   "cell_type": "raw",
   "metadata": {},
   "source": [
    "\n",
    "Questions 1:\n",
    "\n",
    "Create a numpy array starting from 2 till 50 with a stepsize of 3.\n",
    "\n"
   ]
  },
  {
   "cell_type": "code",
   "execution_count": 1,
   "metadata": {},
   "outputs": [],
   "source": [
    "import numpy as np"
   ]
  },
  {
   "cell_type": "code",
   "execution_count": 2,
   "metadata": {},
   "outputs": [
    {
     "name": "stdout",
     "output_type": "stream",
     "text": [
      "[ 2  5  8 11 14 17 20 23 26 29 32 35 38 41 44 47]\n"
     ]
    }
   ],
   "source": [
    "\n",
    "arr = np.arange(2, 50, 3)\n",
    "print(arr)\n",
    "\n"
   ]
  },
  {
   "cell_type": "raw",
   "metadata": {},
   "source": [
    "\n",
    "Questions 2:\n",
    "\n",
    "Accept two lists of 5 elements each from the user.\n",
    "Convert them to numpy arrays. Concatenate these arrays and print it. Also sort these arrays and print it.\n",
    "\n"
   ]
  },
  {
   "cell_type": "code",
   "execution_count": 3,
   "metadata": {},
   "outputs": [
    {
     "name": "stdout",
     "output_type": "stream",
     "text": [
      "Enter 5 elements for list 1 : \n",
      "1\n",
      "10\n",
      "2\n",
      "9\n",
      "3\n",
      "Enter 5 elements for list 2 : \n",
      "8\n",
      "4\n",
      "7\n",
      "5\n",
      "6\n",
      "Elements of list 1 are:  [1, 10, 2, 9, 3]\n",
      "Elements of list 2 are:  [8, 4, 7, 5, 6]\n",
      "Concatenated array : [ 1 10  2  9  3  8  4  7  5  6]\n",
      "Sorted array :  [ 1  2  3  4  5  6  7  8  9 10]\n"
     ]
    }
   ],
   "source": [
    "\n",
    "\n",
    "list1 = [] \n",
    "list2 = []\n",
    "print(\"Enter 5 elements for list 1 : \")\n",
    "for i in range(0, 5): \n",
    "    e1 = int(input()) \n",
    "    list1.append(e1) \n",
    "      \n",
    "\n",
    "\n",
    "print(\"Enter 5 elements for list 2 : \")\n",
    "for i in range(0, 5): \n",
    "    e2 = int(input()) \n",
    "    list2.append(e2)\n",
    "\n",
    "print(\"Elements of list 1 are: \",list1)\n",
    "print(\"Elements of list 2 are: \",list2)\n",
    "\n",
    "arr1 = np.array(list1)\n",
    "arr2 = np.array(list2)\n",
    "\n",
    "arr = np.concatenate((arr1,arr2),axis=None)\n",
    "print(\"Concatenated array :\", arr)\n",
    "\n",
    "print(\"Sorted array : \",np.sort(arr))\n",
    "\n"
   ]
  },
  {
   "cell_type": "raw",
   "metadata": {},
   "source": [
    "\n",
    "Questions 3:\n",
    "    \n",
    "Write a code snippet to find the dimensions of a ndarray and its size.\n",
    "\n"
   ]
  },
  {
   "cell_type": "code",
   "execution_count": 4,
   "metadata": {},
   "outputs": [
    {
     "name": "stdout",
     "output_type": "stream",
     "text": [
      "The array is : \n",
      " [[1 9 4]\n",
      " [2 8 5]\n",
      " [3 7 6]]\n",
      "Dimension of the array is :  2\n",
      "Size of the array is :  9\n",
      "Shape of the array is : (3, 3)\n"
     ]
    }
   ],
   "source": [
    "\n",
    "arr = np.array([[1,9,4],[2,8,5],[3,7,6]])\n",
    "\n",
    "print(\"The array is : \\n\", arr)\n",
    "\n",
    "print(\"Dimension of the array is : \", arr.ndim)\n",
    "\n",
    "print(\"Size of the array is : \",arr.size)\n",
    "\n",
    "print(\"Shape of the array is :\", arr.shape)\n",
    "\n"
   ]
  },
  {
   "cell_type": "raw",
   "metadata": {},
   "source": [
    "\n",
    "Questions 4:\n",
    "    \n",
    "How to convert a 1D array into a 2D array? Demonstrate with the help of a code snippet\n",
    "Hint: np.newaxis, np.expand_dims\n",
    "    \n",
    "    "
   ]
  },
  {
   "cell_type": "code",
   "execution_count": 5,
   "metadata": {},
   "outputs": [
    {
     "name": "stdout",
     "output_type": "stream",
     "text": [
      "[0 1 2 3 4]\n",
      "Shape of arr :  (5,)\n",
      "Dimension of the arr is :  1\n",
      "Shape of arr1 : (5, 1)\n",
      "Dimension of the arr1 is :  2\n",
      "Shape of arr2 : (1, 5)\n",
      "Dimension of the arr2 is :  2\n"
     ]
    }
   ],
   "source": [
    "#array containing 5 elements\n",
    "\n",
    "arr = np.arange(5)\n",
    "print(arr)\n",
    "\n",
    "print(\"Shape of arr : \", arr.shape)\n",
    "print(\"Dimension of the arr is : \", arr.ndim)\n",
    "\n",
    "#converting 1d array to 2d using np.newaxis\n",
    "arr1 = arr[:,np.newaxis]\n",
    "\n",
    "print(\"Shape of arr1 :\", arr1.shape)\n",
    "print(\"Dimension of the arr1 is : \", arr1.ndim)\n",
    "\n",
    "#converting 1d array to 2d using np.expand_dims\n",
    "arr2 = np.expand_dims(arr, axis=0)\n",
    "\n",
    "print(\"Shape of arr2 :\", arr2.shape)\n",
    "print(\"Dimension of the arr2 is : \", arr2.ndim)\n",
    "\n"
   ]
  },
  {
   "cell_type": "raw",
   "metadata": {},
   "source": [
    "\n",
    "Questions 5:\n",
    "\n",
    "Consider two square numpy arrays. Stack them vertically and horizontally.\n",
    "Hint: Use vstack(), hstack()\n",
    "\n"
   ]
  },
  {
   "cell_type": "code",
   "execution_count": 6,
   "metadata": {},
   "outputs": [
    {
     "name": "stdout",
     "output_type": "stream",
     "text": [
      "arr1 is : \n",
      " [[1 2 3]\n",
      " [4 5 6]\n",
      " [7 8 9]]\n",
      "arr2 is : \n",
      " [[4 5 6]\n",
      " [7 8 9]\n",
      " [1 2 3]]\n",
      "Vertically Stack: \n",
      " [[1 2 3]\n",
      " [4 5 6]\n",
      " [7 8 9]\n",
      " [4 5 6]\n",
      " [7 8 9]\n",
      " [1 2 3]]\n",
      "Horizantally Stack: \n",
      " [[1 2 3 4 5 6]\n",
      " [4 5 6 7 8 9]\n",
      " [7 8 9 1 2 3]]\n"
     ]
    }
   ],
   "source": [
    "arr1 = np.array([[1,2,3],[4,5,6],[7,8,9]])\n",
    "\n",
    "arr2 = np.array([[4,5,6],[7,8,9],[1,2,3]])\n",
    "\n",
    "print(\"arr1 is : \\n\", arr1)\n",
    "print(\"arr2 is : \\n\", arr2)\n",
    "\n",
    "print(\"Vertically Stack: \\n\", np.vstack((arr1,arr2)))\n",
    "\n",
    "print(\"Horizantally Stack: \\n\", np.hstack((arr1,arr2)))\n"
   ]
  },
  {
   "cell_type": "raw",
   "metadata": {},
   "source": [
    "\n",
    "Questions 6:\n",
    "\n",
    "How to get unique items and counts of unique items?\n",
    "\n"
   ]
  },
  {
   "cell_type": "code",
   "execution_count": 7,
   "metadata": {},
   "outputs": [
    {
     "name": "stdout",
     "output_type": "stream",
     "text": [
      "Unique items in arr: \n",
      " [ 2  5 10 15 20]\n",
      "Count of the unique items: \n",
      " [1 3 2 1 1]\n"
     ]
    }
   ],
   "source": [
    "\n",
    "arr = np.array([5,10,15,2,10,5,20,5])\n",
    "\n",
    "unique_item, count = np.unique(arr,return_counts = True)\n",
    "\n",
    "print(\"Unique items in arr: \\n\",unique_item)\n",
    "print(\"Count of the unique items: \\n\",count)\n"
   ]
  },
  {
   "cell_type": "code",
   "execution_count": null,
   "metadata": {},
   "outputs": [],
   "source": []
  }
 ],
 "metadata": {
  "kernelspec": {
   "display_name": "Python 3",
   "language": "python",
   "name": "python3"
  },
  "language_info": {
   "codemirror_mode": {
    "name": "ipython",
    "version": 3
   },
   "file_extension": ".py",
   "mimetype": "text/x-python",
   "name": "python",
   "nbconvert_exporter": "python",
   "pygments_lexer": "ipython3",
   "version": "3.7.6"
  }
 },
 "nbformat": 4,
 "nbformat_minor": 4
}
