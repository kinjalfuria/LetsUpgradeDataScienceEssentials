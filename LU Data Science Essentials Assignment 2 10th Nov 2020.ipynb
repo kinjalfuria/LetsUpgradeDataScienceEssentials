{
 "cells": [
  {
   "cell_type": "raw",
   "metadata": {},
   "source": [
    "Questions 1:\n",
    "\n",
    "Create an empty list. Accept 10 numbers from the user and append to it the list if it is an even number.\n"
   ]
  },
  {
   "cell_type": "code",
   "execution_count": 1,
   "metadata": {},
   "outputs": [
    {
     "name": "stdout",
     "output_type": "stream",
     "text": [
      "1\n",
      "2\n",
      "3\n",
      "4\n",
      "5\n",
      "6\n",
      "7\n",
      "8\n",
      "9\n",
      "10\n",
      "The numbers in the list are :  [2, 4, 6, 8, 10]\n"
     ]
    }
   ],
   "source": [
    "even_num_list =[]\n",
    "for i in range(10):\n",
    "    user_input = int(input())\n",
    "    if user_input % 2 == 0:\n",
    "        even_num_list.append(user_input)\n",
    "print(\"The numbers in the list are : \" , even_num_list)"
   ]
  },
  {
   "cell_type": "raw",
   "metadata": {},
   "source": [
    "\n",
    "Questions 2:\n",
    "    \n",
    "Create a notebook on LIST COMPREHENSION. This exercise is to put you in a Self learning mode\n",
    "\n"
   ]
  },
  {
   "cell_type": "code",
   "execution_count": 2,
   "metadata": {},
   "outputs": [
    {
     "name": "stdout",
     "output_type": "stream",
     "text": [
      "List Comprehension Example 1\n",
      "1\n",
      "2\n",
      "3\n",
      "4\n",
      "5\n",
      "The numbers in the list are :  [2, 4]\n",
      "List Comprehension Example 2\n",
      "The given number list raised to 2  =   [0, 4, 16, 36, 64]\n"
     ]
    }
   ],
   "source": [
    "#Example 1\n",
    "print(\"List Comprehension Example 1\")\n",
    "\n",
    "even_num_list =[]\n",
    "user_input =[]\n",
    "for i in range(5):\n",
    "    user_input.append(int(input()))\n",
    "even_num_list = [num for num in user_input if num % 2 == 0]\n",
    "print(\"The numbers in the list are : \" , even_num_list)\n",
    "\n",
    "\n",
    "#**********************************************************\n",
    "\n",
    "\n",
    "#Example 2\n",
    "\n",
    "print(\"List Comprehension Example 2\")\n",
    "\n",
    "my_num_list = range(10)\n",
    "my_num_list_raisedto2 = [num**2 for num in my_num_list if num%2==0]\n",
    "print(\"The given number list raised to 2  =  \",my_num_list_raisedto2)\n"
   ]
  },
  {
   "cell_type": "raw",
   "metadata": {},
   "source": [
    "\n",
    "Questions 3:\n",
    "    \n",
    "You have seen in the videos how powerful dictionary data structure is.\n",
    "In this assignment, given a number n, you have to write a program that generates a dictionary d which\n",
    "contains (i, i*i), where i is from 1 to n (both included).\n",
    "Then you have to just print this dictionary d.\n",
    "Example:\n",
    "Input: 4\n",
    "will give output as\n",
    "{1: 1, 2: 4, 3: 9, 4: 16}\n",
    "Input Format:\n",
    "Take the number n in a single line.\n",
    "Output Format:\n",
    "Print the dictionary d in a single line.\n",
    "\n"
   ]
  },
  {
   "cell_type": "code",
   "execution_count": 3,
   "metadata": {},
   "outputs": [
    {
     "name": "stdout",
     "output_type": "stream",
     "text": [
      "8\n",
      "{1: 1, 2: 4, 3: 9, 4: 16, 5: 25, 6: 36, 7: 49, 8: 64}\n"
     ]
    }
   ],
   "source": [
    "n = int(input())\n",
    "d = {}\n",
    "for num in range(n):\n",
    "    i = num+1\n",
    "    d[i] = i*i\n",
    "print(d)"
   ]
  },
  {
   "cell_type": "raw",
   "metadata": {},
   "source": [
    "\n",
    "Questions 4:\n",
    "\n",
    "\n",
    "There is a robot which wants to go the charging point to charge itself.\n",
    "The robot moves in a 2-D plane from the original point (0,0). The robot can\n",
    "move toward UP, DOWN, LEFT and RIGHT with given steps.\n",
    "The trace of robot movement is shown as the following:\n",
    "UP 5\n",
    "DOWN 3\n",
    "LEFT 3\n",
    "RIGHT 2\n",
    "Then, the output of the program should be:\n",
    "2\n",
    "The numbers after the direction are steps.\n",
    "Write a program to compute the distance between the current position after\n",
    "a sequence of movement and original point. If the distance is a float, then\n",
    "just print the nearest integer (use round() function for that and then convert\n",
    "it into an integer).\n",
    "Input Format:\n",
    "The first line of the input contains a number n which implies the number of\n",
    "directions to be given.\n",
    "The next n lines contain the direction and the step separated by a space.\n",
    "Output Format:\n",
    "Print the distance from the original position to the current position.\n",
    "Example:\n",
    "Input:\n",
    "4\n",
    "UP 5\n",
    "DOWN 3\n",
    "LEFT 3\n",
    "RIGHT 2\n",
    "Output:\n",
    "2\n",
    "\n"
   ]
  },
  {
   "cell_type": "code",
   "execution_count": 4,
   "metadata": {},
   "outputs": [
    {
     "name": "stdout",
     "output_type": "stream",
     "text": [
      "4\n",
      "UP 5\n",
      "DOWN 3\n",
      "LEFT 3\n",
      "RIGHT 2\n",
      "2\n"
     ]
    }
   ],
   "source": [
    "current_position = {\"x\":0,\"y\":0}\n",
    "steps = int(input())\n",
    "\n",
    "for step in range (steps):\n",
    "    user_input =  input().split(\" \")\n",
    "    if user_input[0] == \"RIGHT\":\n",
    "        current_position[\"x\"] += int(user_input[1])\n",
    "    if user_input[0] == \"LEFT\":\n",
    "        current_position[\"x\"] -= int(user_input[1])\n",
    "    if user_input[0] == \"UP\":       \n",
    "        current_position[\"y\"] += int(user_input[1])\n",
    "    if user_input[0] == \"DOWN\":\n",
    "        current_position[\"y\"] -= int(user_input[1])\n",
    "\n",
    "print(int(round((current_position[\"x\"]**2 + current_position[\"y\"]**2)**0.5)))\n"
   ]
  },
  {
   "cell_type": "code",
   "execution_count": null,
   "metadata": {},
   "outputs": [],
   "source": []
  }
 ],
 "metadata": {
  "kernelspec": {
   "display_name": "Python 3",
   "language": "python",
   "name": "python3"
  },
  "language_info": {
   "codemirror_mode": {
    "name": "ipython",
    "version": 3
   },
   "file_extension": ".py",
   "mimetype": "text/x-python",
   "name": "python",
   "nbconvert_exporter": "python",
   "pygments_lexer": "ipython3",
   "version": "3.7.6"
  }
 },
 "nbformat": 4,
 "nbformat_minor": 4
}
